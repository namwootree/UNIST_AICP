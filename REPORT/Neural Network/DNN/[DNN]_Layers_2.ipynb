{
  "nbformat": 4,
  "nbformat_minor": 0,
  "metadata": {
    "colab": {
      "provenance": [],
      "machine_shape": "hm",
      "gpuType": "A100"
    },
    "kernelspec": {
      "name": "python3",
      "display_name": "Python 3"
    },
    "language_info": {
      "name": "python"
    },
    "accelerator": "GPU",
    "gpuClass": "standard",
    "widgets": {
      "application/vnd.jupyter.widget-state+json": {
        "e33e8c9e0c4b4aeeaec2d48092300764": {
          "model_module": "@jupyter-widgets/controls",
          "model_name": "HBoxModel",
          "model_module_version": "1.5.0",
          "state": {
            "_dom_classes": [],
            "_model_module": "@jupyter-widgets/controls",
            "_model_module_version": "1.5.0",
            "_model_name": "HBoxModel",
            "_view_count": null,
            "_view_module": "@jupyter-widgets/controls",
            "_view_module_version": "1.5.0",
            "_view_name": "HBoxView",
            "box_style": "",
            "children": [
              "IPY_MODEL_c423502f73ab427da35e25e62a198bb4",
              "IPY_MODEL_c474d19127104e9fbd71b0b7bb6d4457",
              "IPY_MODEL_8ec32ca104a84b3da7946c233c955be0"
            ],
            "layout": "IPY_MODEL_2b9bf1d3bda9438bb34f52ff7f58ad76"
          }
        },
        "c423502f73ab427da35e25e62a198bb4": {
          "model_module": "@jupyter-widgets/controls",
          "model_name": "HTMLModel",
          "model_module_version": "1.5.0",
          "state": {
            "_dom_classes": [],
            "_model_module": "@jupyter-widgets/controls",
            "_model_module_version": "1.5.0",
            "_model_name": "HTMLModel",
            "_view_count": null,
            "_view_module": "@jupyter-widgets/controls",
            "_view_module_version": "1.5.0",
            "_view_name": "HTMLView",
            "description": "",
            "description_tooltip": null,
            "layout": "IPY_MODEL_cbc778bc7c4d43a5a3e2b10be5ad3ca2",
            "placeholder": "​",
            "style": "IPY_MODEL_68ca525397804528b2503fa342d91fce",
            "value": " 22%"
          }
        },
        "c474d19127104e9fbd71b0b7bb6d4457": {
          "model_module": "@jupyter-widgets/controls",
          "model_name": "FloatProgressModel",
          "model_module_version": "1.5.0",
          "state": {
            "_dom_classes": [],
            "_model_module": "@jupyter-widgets/controls",
            "_model_module_version": "1.5.0",
            "_model_name": "FloatProgressModel",
            "_view_count": null,
            "_view_module": "@jupyter-widgets/controls",
            "_view_module_version": "1.5.0",
            "_view_name": "ProgressView",
            "bar_style": "",
            "description": "",
            "description_tooltip": null,
            "layout": "IPY_MODEL_c09647772cf74400b18aeb32677c0527",
            "max": 906,
            "min": 0,
            "orientation": "horizontal",
            "style": "IPY_MODEL_2f0856571f084a1da694551f04680f89",
            "value": 197
          }
        },
        "8ec32ca104a84b3da7946c233c955be0": {
          "model_module": "@jupyter-widgets/controls",
          "model_name": "HTMLModel",
          "model_module_version": "1.5.0",
          "state": {
            "_dom_classes": [],
            "_model_module": "@jupyter-widgets/controls",
            "_model_module_version": "1.5.0",
            "_model_name": "HTMLModel",
            "_view_count": null,
            "_view_module": "@jupyter-widgets/controls",
            "_view_module_version": "1.5.0",
            "_view_name": "HTMLView",
            "description": "",
            "description_tooltip": null,
            "layout": "IPY_MODEL_9b89fb89c0f94f9884bc9b2d84b0de14",
            "placeholder": "​",
            "style": "IPY_MODEL_4cabf788ad514b32aea195f9d36394f8",
            "value": " 197/906 [34:07&lt;2:02:30, 10.37s/it]"
          }
        },
        "2b9bf1d3bda9438bb34f52ff7f58ad76": {
          "model_module": "@jupyter-widgets/base",
          "model_name": "LayoutModel",
          "model_module_version": "1.2.0",
          "state": {
            "_model_module": "@jupyter-widgets/base",
            "_model_module_version": "1.2.0",
            "_model_name": "LayoutModel",
            "_view_count": null,
            "_view_module": "@jupyter-widgets/base",
            "_view_module_version": "1.2.0",
            "_view_name": "LayoutView",
            "align_content": null,
            "align_items": null,
            "align_self": null,
            "border": null,
            "bottom": null,
            "display": null,
            "flex": null,
            "flex_flow": null,
            "grid_area": null,
            "grid_auto_columns": null,
            "grid_auto_flow": null,
            "grid_auto_rows": null,
            "grid_column": null,
            "grid_gap": null,
            "grid_row": null,
            "grid_template_areas": null,
            "grid_template_columns": null,
            "grid_template_rows": null,
            "height": null,
            "justify_content": null,
            "justify_items": null,
            "left": null,
            "margin": null,
            "max_height": null,
            "max_width": null,
            "min_height": null,
            "min_width": null,
            "object_fit": null,
            "object_position": null,
            "order": null,
            "overflow": null,
            "overflow_x": null,
            "overflow_y": null,
            "padding": null,
            "right": null,
            "top": null,
            "visibility": null,
            "width": null
          }
        },
        "cbc778bc7c4d43a5a3e2b10be5ad3ca2": {
          "model_module": "@jupyter-widgets/base",
          "model_name": "LayoutModel",
          "model_module_version": "1.2.0",
          "state": {
            "_model_module": "@jupyter-widgets/base",
            "_model_module_version": "1.2.0",
            "_model_name": "LayoutModel",
            "_view_count": null,
            "_view_module": "@jupyter-widgets/base",
            "_view_module_version": "1.2.0",
            "_view_name": "LayoutView",
            "align_content": null,
            "align_items": null,
            "align_self": null,
            "border": null,
            "bottom": null,
            "display": null,
            "flex": null,
            "flex_flow": null,
            "grid_area": null,
            "grid_auto_columns": null,
            "grid_auto_flow": null,
            "grid_auto_rows": null,
            "grid_column": null,
            "grid_gap": null,
            "grid_row": null,
            "grid_template_areas": null,
            "grid_template_columns": null,
            "grid_template_rows": null,
            "height": null,
            "justify_content": null,
            "justify_items": null,
            "left": null,
            "margin": null,
            "max_height": null,
            "max_width": null,
            "min_height": null,
            "min_width": null,
            "object_fit": null,
            "object_position": null,
            "order": null,
            "overflow": null,
            "overflow_x": null,
            "overflow_y": null,
            "padding": null,
            "right": null,
            "top": null,
            "visibility": null,
            "width": null
          }
        },
        "68ca525397804528b2503fa342d91fce": {
          "model_module": "@jupyter-widgets/controls",
          "model_name": "DescriptionStyleModel",
          "model_module_version": "1.5.0",
          "state": {
            "_model_module": "@jupyter-widgets/controls",
            "_model_module_version": "1.5.0",
            "_model_name": "DescriptionStyleModel",
            "_view_count": null,
            "_view_module": "@jupyter-widgets/base",
            "_view_module_version": "1.2.0",
            "_view_name": "StyleView",
            "description_width": ""
          }
        },
        "c09647772cf74400b18aeb32677c0527": {
          "model_module": "@jupyter-widgets/base",
          "model_name": "LayoutModel",
          "model_module_version": "1.2.0",
          "state": {
            "_model_module": "@jupyter-widgets/base",
            "_model_module_version": "1.2.0",
            "_model_name": "LayoutModel",
            "_view_count": null,
            "_view_module": "@jupyter-widgets/base",
            "_view_module_version": "1.2.0",
            "_view_name": "LayoutView",
            "align_content": null,
            "align_items": null,
            "align_self": null,
            "border": null,
            "bottom": null,
            "display": null,
            "flex": null,
            "flex_flow": null,
            "grid_area": null,
            "grid_auto_columns": null,
            "grid_auto_flow": null,
            "grid_auto_rows": null,
            "grid_column": null,
            "grid_gap": null,
            "grid_row": null,
            "grid_template_areas": null,
            "grid_template_columns": null,
            "grid_template_rows": null,
            "height": null,
            "justify_content": null,
            "justify_items": null,
            "left": null,
            "margin": null,
            "max_height": null,
            "max_width": null,
            "min_height": null,
            "min_width": null,
            "object_fit": null,
            "object_position": null,
            "order": null,
            "overflow": null,
            "overflow_x": null,
            "overflow_y": null,
            "padding": null,
            "right": null,
            "top": null,
            "visibility": null,
            "width": null
          }
        },
        "2f0856571f084a1da694551f04680f89": {
          "model_module": "@jupyter-widgets/controls",
          "model_name": "ProgressStyleModel",
          "model_module_version": "1.5.0",
          "state": {
            "_model_module": "@jupyter-widgets/controls",
            "_model_module_version": "1.5.0",
            "_model_name": "ProgressStyleModel",
            "_view_count": null,
            "_view_module": "@jupyter-widgets/base",
            "_view_module_version": "1.2.0",
            "_view_name": "StyleView",
            "bar_color": null,
            "description_width": ""
          }
        },
        "9b89fb89c0f94f9884bc9b2d84b0de14": {
          "model_module": "@jupyter-widgets/base",
          "model_name": "LayoutModel",
          "model_module_version": "1.2.0",
          "state": {
            "_model_module": "@jupyter-widgets/base",
            "_model_module_version": "1.2.0",
            "_model_name": "LayoutModel",
            "_view_count": null,
            "_view_module": "@jupyter-widgets/base",
            "_view_module_version": "1.2.0",
            "_view_name": "LayoutView",
            "align_content": null,
            "align_items": null,
            "align_self": null,
            "border": null,
            "bottom": null,
            "display": null,
            "flex": null,
            "flex_flow": null,
            "grid_area": null,
            "grid_auto_columns": null,
            "grid_auto_flow": null,
            "grid_auto_rows": null,
            "grid_column": null,
            "grid_gap": null,
            "grid_row": null,
            "grid_template_areas": null,
            "grid_template_columns": null,
            "grid_template_rows": null,
            "height": null,
            "justify_content": null,
            "justify_items": null,
            "left": null,
            "margin": null,
            "max_height": null,
            "max_width": null,
            "min_height": null,
            "min_width": null,
            "object_fit": null,
            "object_position": null,
            "order": null,
            "overflow": null,
            "overflow_x": null,
            "overflow_y": null,
            "padding": null,
            "right": null,
            "top": null,
            "visibility": null,
            "width": null
          }
        },
        "4cabf788ad514b32aea195f9d36394f8": {
          "model_module": "@jupyter-widgets/controls",
          "model_name": "DescriptionStyleModel",
          "model_module_version": "1.5.0",
          "state": {
            "_model_module": "@jupyter-widgets/controls",
            "_model_module_version": "1.5.0",
            "_model_name": "DescriptionStyleModel",
            "_view_count": null,
            "_view_module": "@jupyter-widgets/base",
            "_view_module_version": "1.2.0",
            "_view_name": "StyleView",
            "description_width": ""
          }
        }
      }
    }
  },
  "cells": [
    {
      "cell_type": "markdown",
      "source": [
        "# Setting"
      ],
      "metadata": {
        "id": "UPiaWLp5zZyv"
      }
    },
    {
      "cell_type": "markdown",
      "source": [
        "## Library"
      ],
      "metadata": {
        "id": "IjhGw7aXzcFN"
      }
    },
    {
      "cell_type": "code",
      "execution_count": 1,
      "metadata": {
        "id": "WAOdjyD6zY50"
      },
      "outputs": [],
      "source": [
        "import pandas as pd\n",
        "import numpy as np\n",
        "import math"
      ]
    },
    {
      "cell_type": "code",
      "source": [
        "import matplotlib.pyplot as plt\n",
        "import seaborn as sns\n",
        "import cv2\n",
        "from google.colab.patches import cv2_imshow"
      ],
      "metadata": {
        "id": "rihGHJ2azekK"
      },
      "execution_count": 2,
      "outputs": []
    },
    {
      "cell_type": "code",
      "source": [
        "from tqdm.notebook import tqdm\n",
        "import random\n",
        "import os\n",
        "import gc"
      ],
      "metadata": {
        "id": "V9UZHHAuzfbx"
      },
      "execution_count": 3,
      "outputs": []
    },
    {
      "cell_type": "code",
      "source": [
        "from sklearn.metrics import classification_report\n",
        "from sklearn.metrics import accuracy_score # 정확도\n",
        "from sklearn.metrics import precision_score # 정밀도\n",
        "from sklearn.metrics import recall_score # 재현율\n",
        "from sklearn.metrics import f1_score # F1-Score\n",
        "from sklearn.metrics import confusion_matrix"
      ],
      "metadata": {
        "id": "0TZgUc3kzhZd"
      },
      "execution_count": 4,
      "outputs": []
    },
    {
      "cell_type": "code",
      "source": [
        "import tensorflow as tf\n",
        "from tensorflow.keras.layers import Dense, LeakyReLU\n",
        "from tensorflow.keras import Model\n",
        "from tensorflow.keras.metrics import TrueNegatives, TruePositives, FalseNegatives, FalsePositives\n",
        "from tensorflow.keras.callbacks import EarlyStopping, ReduceLROnPlateau\n",
        "from tensorflow.keras.utils import plot_model"
      ],
      "metadata": {
        "id": "h8vlaEg7ziMN"
      },
      "execution_count": 5,
      "outputs": []
    },
    {
      "cell_type": "code",
      "source": [
        "print(\"TensorFlow version:\", tf.__version__)"
      ],
      "metadata": {
        "colab": {
          "base_uri": "https://localhost:8080/"
        },
        "id": "4qD10eD9fYiO",
        "outputId": "b22b97b7-de01-48a2-99c3-ff3b6fc00d7f"
      },
      "execution_count": 6,
      "outputs": [
        {
          "output_type": "stream",
          "name": "stdout",
          "text": [
            "TensorFlow version: 2.12.0\n"
          ]
        }
      ]
    },
    {
      "cell_type": "code",
      "source": [
        "import warnings\n",
        "warnings.filterwarnings(action='ignore')"
      ],
      "metadata": {
        "id": "32m9-GRoRFWm"
      },
      "execution_count": 7,
      "outputs": []
    },
    {
      "cell_type": "markdown",
      "source": [
        "## GPU"
      ],
      "metadata": {
        "id": "UOgmhfdR-PT1"
      }
    },
    {
      "cell_type": "markdown",
      "source": [
        "GPU (NVIDIA꺼) 사양 확인"
      ],
      "metadata": {
        "id": "a_8zYRkwv668"
      }
    },
    {
      "cell_type": "code",
      "source": [
        "!nvidia-smi"
      ],
      "metadata": {
        "colab": {
          "base_uri": "https://localhost:8080/"
        },
        "id": "XnZKoXPC-R2u",
        "outputId": "ae74c5a6-dd93-4aa8-e9bc-52489053f780"
      },
      "execution_count": 8,
      "outputs": [
        {
          "output_type": "stream",
          "name": "stdout",
          "text": [
            "Mon May 22 07:07:29 2023       \n",
            "+-----------------------------------------------------------------------------+\n",
            "| NVIDIA-SMI 525.85.12    Driver Version: 525.85.12    CUDA Version: 12.0     |\n",
            "|-------------------------------+----------------------+----------------------+\n",
            "| GPU  Name        Persistence-M| Bus-Id        Disp.A | Volatile Uncorr. ECC |\n",
            "| Fan  Temp  Perf  Pwr:Usage/Cap|         Memory-Usage | GPU-Util  Compute M. |\n",
            "|                               |                      |               MIG M. |\n",
            "|===============================+======================+======================|\n",
            "|   0  NVIDIA A100-SXM...  Off  | 00000000:00:04.0 Off |                    0 |\n",
            "| N/A   32C    P0    44W / 400W |      0MiB / 40960MiB |      0%      Default |\n",
            "|                               |                      |             Disabled |\n",
            "+-------------------------------+----------------------+----------------------+\n",
            "                                                                               \n",
            "+-----------------------------------------------------------------------------+\n",
            "| Processes:                                                                  |\n",
            "|  GPU   GI   CI        PID   Type   Process name                  GPU Memory |\n",
            "|        ID   ID                                                   Usage      |\n",
            "|=============================================================================|\n",
            "|  No running processes found                                                 |\n",
            "+-----------------------------------------------------------------------------+\n"
          ]
        }
      ]
    },
    {
      "cell_type": "markdown",
      "source": [
        "GPU 연결되었는 지 확인"
      ],
      "metadata": {
        "id": "8PVCbg0RwBAQ"
      }
    },
    {
      "cell_type": "code",
      "source": [
        "device_name = tf.test.gpu_device_name()\n",
        "if device_name != '/device:GPU:0':\n",
        "  raise SystemError('GPU device not found')\n",
        "print('Found GPU at: {}'.format(device_name))"
      ],
      "metadata": {
        "colab": {
          "base_uri": "https://localhost:8080/"
        },
        "id": "WCod2trRUn2R",
        "outputId": "83c9febd-6340-4cc0-e9f5-54f90053f488"
      },
      "execution_count": 9,
      "outputs": [
        {
          "output_type": "stream",
          "name": "stdout",
          "text": [
            "Found GPU at: /device:GPU:0\n"
          ]
        }
      ]
    },
    {
      "cell_type": "markdown",
      "source": [
        "## Seed"
      ],
      "metadata": {
        "id": "XLiYtz_YzmwI"
      }
    },
    {
      "cell_type": "code",
      "source": [
        "def my_seed_everywhere(seed):\n",
        "    random.seed(seed) # random\n",
        "    np.random.seed(seed) # numpy\n",
        "    tf.random.set_seed(seed)\n",
        "    os.environ[\"PYTHONHASHSEED\"] = str(seed) # os\n",
        "    os.environ['TF_DETERMINISTIC_OPS'] = '1'\n",
        "    print(f'고정된 Seed : {seed}')"
      ],
      "metadata": {
        "id": "32Qk7MFN34FI"
      },
      "execution_count": 10,
      "outputs": []
    },
    {
      "cell_type": "code",
      "source": [
        "my_seed_everywhere(42)"
      ],
      "metadata": {
        "colab": {
          "base_uri": "https://localhost:8080/"
        },
        "id": "Lp9ccudB4BLz",
        "outputId": "a9d602a9-da0c-4799-e28d-97546fb60b7b"
      },
      "execution_count": 11,
      "outputs": [
        {
          "output_type": "stream",
          "name": "stdout",
          "text": [
            "고정된 Seed : 42\n"
          ]
        }
      ]
    },
    {
      "cell_type": "markdown",
      "source": [
        "# Data Set"
      ],
      "metadata": {
        "id": "eDJioxAp4FVB"
      }
    },
    {
      "cell_type": "code",
      "source": [
        "from google.colab import drive\n",
        "drive.mount('/content/drive')"
      ],
      "metadata": {
        "colab": {
          "base_uri": "https://localhost:8080/"
        },
        "id": "aLXe0e7k4BaE",
        "outputId": "76d581f2-1662-4af9-9fe9-7c7be8a8bfed"
      },
      "execution_count": 12,
      "outputs": [
        {
          "output_type": "stream",
          "name": "stdout",
          "text": [
            "Mounted at /content/drive\n"
          ]
        }
      ]
    },
    {
      "cell_type": "code",
      "source": [
        "path_file = '/content/drive/MyDrive/UNIST/AICP/data/dynmom_dat.csv'\n",
        "df = pd.read_csv(path_file)"
      ],
      "metadata": {
        "id": "S1IZkgnr4G-_"
      },
      "execution_count": 13,
      "outputs": []
    },
    {
      "cell_type": "markdown",
      "source": [
        "# Preprocessing"
      ],
      "metadata": {
        "id": "1gRO24IC4ON8"
      }
    },
    {
      "cell_type": "code",
      "source": [
        "def preprocessing(data, drop=None):\n",
        "  # 'DATE'를 칼럼 대신 인덱스로 사용\n",
        "  data.index = data['DATE']\n",
        "  data = data.drop(columns='DATE')\n",
        "  print(\"'DATE'를 칼럼 대신 인덱스로 사용\")\n",
        "\n",
        "  # 결측치 제거 및 모델 학습에 불필요한 칼럼 제거\n",
        "  data = data.dropna()\n",
        "  data = data.drop(columns=['winner', 'loser', 'form_date'])\n",
        "  print(\"결측치 제거 및 모델 학습에 불필요한 칼럼 제거 ('winner', 'loser', 'form_date')\")\n",
        "\n",
        "  if drop != None:\n",
        "    D = ', '.join(drop)\n",
        "    data = data.drop(columns=drop)\n",
        "    print(f\"훈련에 제외된 변수 들 : {D}\")\n",
        "\n",
        "  return data"
      ],
      "metadata": {
        "id": "uPiFc6Hs4MrD"
      },
      "execution_count": 14,
      "outputs": []
    },
    {
      "cell_type": "code",
      "source": [
        "df = preprocessing(df)"
      ],
      "metadata": {
        "colab": {
          "base_uri": "https://localhost:8080/"
        },
        "id": "siQuRP2l4P7y",
        "outputId": "0e70980d-03a0-4e46-a58c-94ac979f63fc"
      },
      "execution_count": 15,
      "outputs": [
        {
          "output_type": "stream",
          "name": "stdout",
          "text": [
            "'DATE'를 칼럼 대신 인덱스로 사용\n",
            "결측치 제거 및 모델 학습에 불필요한 칼럼 제거 ('winner', 'loser', 'form_date')\n"
          ]
        }
      ]
    },
    {
      "cell_type": "code",
      "source": [
        "def normal_wml(df):\n",
        "  print(\"'wml'이 양수면 1 & 음수면 0\")\n",
        "  print(\"Output : 'Preprocessed_Data' & 'WML'\")\n",
        "  print()\n",
        "\n",
        "  cond_wml = (df['wml']>=0)\n",
        "  df.loc[cond_wml, 'pos_wml'] = 1\n",
        "  df.loc[~cond_wml, 'pos_wml'] = 0\n",
        "  WML = df[['wml']]\n",
        "\n",
        "  df.drop(columns=['wml'], inplace=True)\n",
        "\n",
        "  POS_WML = df['pos_wml'].value_counts()\n",
        "  print(f'Ratio : {POS_WML[0]/POS_WML[1]}')\n",
        "  print(POS_WML)\n",
        "\n",
        "  return df, WML"
      ],
      "metadata": {
        "id": "qzQjn8Rl4Q_j"
      },
      "execution_count": 16,
      "outputs": []
    },
    {
      "cell_type": "code",
      "source": [
        "dynmom, WML = normal_wml(df)"
      ],
      "metadata": {
        "colab": {
          "base_uri": "https://localhost:8080/"
        },
        "id": "QNaj1i0p4ShA",
        "outputId": "d89a9330-3098-4f62-f940-e757567a7ce9"
      },
      "execution_count": 17,
      "outputs": [
        {
          "output_type": "stream",
          "name": "stdout",
          "text": [
            "'wml'이 양수면 1 & 음수면 0\n",
            "Output : 'Preprocessed_Data' & 'WML'\n",
            "\n",
            "Ratio : 0.5634379263301501\n",
            "1.0    733\n",
            "0.0    413\n",
            "Name: pos_wml, dtype: int64\n"
          ]
        }
      ]
    },
    {
      "cell_type": "markdown",
      "source": [
        "# Modeling"
      ],
      "metadata": {
        "id": "il5BJ-cP5RTI"
      }
    },
    {
      "cell_type": "code",
      "source": [
        "def Rolling_Windows(data, window_size, method, model_name, epochs, batch_size, verbose=False):\n",
        "\n",
        "  # 출력될 결과물 (DataFrame)\n",
        "  result_dict = {\n",
        "      'TRAIN_START_DATE':[], # 훈련 데이터 시작 지점\n",
        "      'TRAIN_END_DATE':[], # 훈련 데이터 마지막 지점\n",
        "      'TEST_DATE':[], # 테스트 데이터 지점\n",
        "      'Actual_POS_WML':[], # 실제 Target 값 (0 or 1)\n",
        "      f'{model_name}_PROB_POS_WML':[], # 추론된 Target 확률값\n",
        "      f'{model_name}_PRED_POS_WML':[], # 추론된 Target 값 (0 or 1)\n",
        "      'loss_binary_crossentropy':[] # 모델 학습 시 사용된 loss 함수 최종 값\n",
        "  }\n",
        "  \n",
        "  # Rolling Window ㅣ실행\n",
        "  end = data.shape[0] - window_size \n",
        "\n",
        "  for i in tqdm(range(end)):\n",
        "    if i == end:\n",
        "        print('Prediction using machine learning has ended.')\n",
        "        break\n",
        "\n",
        "    # Rolling Fixed Window\n",
        "    if method == 'Fixed':\n",
        "      train = data.iloc[0+i:window_size+i]\n",
        "\n",
        "    # Rolling Expanding Window\n",
        "    elif method == 'Expanding':\n",
        "      train = data.iloc[0:window_size+i]\n",
        "    \n",
        "    # 'method' 잘못입력한 경우\n",
        "    else:\n",
        "      print(\"Make sure to set the method to either 'Fixed' or 'Expanding'.\")\n",
        "      break\n",
        "\n",
        "    # 테스트 데이터 셋\n",
        "    test = data.iloc[[window_size+i]]\n",
        "\n",
        "    # Features / Target 분활 및 array로 변형 \n",
        "    X_train = train.drop(columns=['pos_wml'])\n",
        "    X_train = np.array(X_train)\n",
        "\n",
        "    y_train = train['pos_wml']\n",
        "    y_train = np.array(y_train)\n",
        "\n",
        "    X_test = test.drop(columns=['pos_wml'])\n",
        "    X_test = np.array(X_test)\n",
        "\n",
        "    y_test = test['pos_wml'] \n",
        "    y_test = np.array(y_test)\n",
        "\n",
        "    # Model Architecture\n",
        "    MODEL = tf.keras.Sequential([\n",
        "        Dense(15,activation=LeakyReLU(), input_shape=(len(dynmom.columns)-1,)),\n",
        "        Dense(1, activation='sigmoid')\n",
        "    ])\n",
        "\n",
        "    # Model Architecture Information 출력\n",
        "    if i == 0:\n",
        "      print(MODEL.summary())\n",
        "      print()\n",
        "      print(plot_model(MODEL, to_file=f'{model_name}_shapes.png', show_shapes=True))\n",
        "      MODEL_IMG = cv2.imread(f'{model_name}_shapes.png')\n",
        "      cv2_imshow(MODEL_IMG)\n",
        "      print()\n",
        "\n",
        "    # Compile Model\n",
        "    MODEL.compile(optimizer='adam', # 유명하고 자주쓰는 optimizer \n",
        "                  loss='binary_crossentropy', # 이진 분류 시 사용되는 loss 함수\n",
        "                  metrics=[FalseNegatives(),\n",
        "                           FalsePositives()]) # 매 epoch 마다 출력되는 성능 지표\n",
        "                  \n",
        "\n",
        "    # monitor에 설정된 지표가 일정 epoch 이상 성능 개선이 이루어지지 않으면 모델 학습 멈춤\n",
        "    early_stopping = EarlyStopping(monitor='loss', patience=20)\n",
        "    # monitor에 설정된 지표가 일정 epoch 이상 성능 개선이 이루어지지 않으면 learning rate를 값을 낮춤\n",
        "    reduce_lr = ReduceLROnPlateau(monitor='loss', patience=15, mode='min')\n",
        "\n",
        "    history = MODEL.fit(X_train, y_train, # 훈련 데이터 Features & Target\n",
        "                        validation_data=[X_train, y_train], # 검증 데이터 (검증 데이터를 별도로 분류하지 않아서 훈련 데이터로 대체)\n",
        "                        batch_size=batch_size, # 어느 정도 사이즈의 데이터를 학습하고 모델의 weight를 업데이트 할 것인지 (batch size가 크면 학습 속도 빠르고 이상치에 상대적으로 덜 민감 / 개별 데이터의 특성 덜 반영 그리고 랩 용량 부담)\n",
        "                        validation_batch_size=batch_size,\n",
        "                        epochs=epochs, # 동일한 데이터를 몇 번 반복해서 학습할 것인가?\n",
        "                        shuffle=False, # 훈련 데이터 썩지 않음\n",
        "                        callbacks=[early_stopping, reduce_lr],\n",
        "                        verbose=verbose) # 학습 과정 출력 여부\n",
        "    \n",
        "    prob_test = MODEL.predict(X_test, # 테스트 데이터 셋\n",
        "                              #batch_size=batch_size,\n",
        "                              verbose=verbose) # 학습 과정 출력 여부\n",
        "    \n",
        "    pred_test = (prob_test.flatten()>0.5).astype(int) # 모델의 최종 출력값 (확률값)이 threshold 초과할 경우 1\n",
        "    \n",
        "    # 학습 및 테스트 데이터 정보 & 실제값과 예측값 정보 수집\n",
        "    result_dict['TRAIN_START_DATE'].append(train.index[0])\n",
        "    result_dict['TRAIN_END_DATE'].append(train.index[-1])\n",
        "    result_dict['TEST_DATE'].append(test.index[0])\n",
        "    \n",
        "    result_dict['Actual_POS_WML'].append(list(y_test)[0])\n",
        "    result_dict[f'{model_name}_PROB_POS_WML'].append(prob_test[0][0])\n",
        "    result_dict[f'{model_name}_PRED_POS_WML'].append(pred_test[0])\n",
        "\n",
        "    result_dict['loss_binary_crossentropy'].append(history.history['loss'][-1])\n",
        "\n",
        "    # Model Reset\n",
        "    ## 현재 세션에 존재하는 모든 텐서 객체들을 삭제\n",
        "    ## 메모리 누수(memory leak)를 방지\n",
        "    ## 모델을 여러 번 훈련할 때 이전에 사용되었던 가중치(weight) 등을 초기화하는 데 사용 \n",
        "    tf.keras.backend.clear_session()\n",
        "    gc.collect() # \n",
        "    del MODEL\n",
        "\n",
        "\n",
        "  result = pd.DataFrame(result_dict)\n",
        "  result = result.set_index('TEST_DATE')\n",
        "\n",
        "  return result"
      ],
      "metadata": {
        "id": "FKMR9bPP4T2z"
      },
      "execution_count": 18,
      "outputs": []
    },
    {
      "cell_type": "code",
      "source": [
        "def cum_return_sharpe_ratio(data, wml, weight):\n",
        "\n",
        "  # wml 데이터 셋 슬라이싱 (result와 동일한 날짜 맞춤)\n",
        "  start_index = data.index[0]\n",
        "  wml = wml.loc[start_index:]\n",
        "\n",
        "  # 머신러닝 적용되지 않은 경우 Sharpe Ratio\n",
        "  S_WML = wml.copy()\n",
        "  w_S = (S_WML['wml'].mean()/S_WML['wml'].std()) * math.sqrt(12)\n",
        "  print('ORG Sharpe Ratio : {}'.format(w_S))\n",
        "\n",
        "  # 머신러닝 적용된 경우 Sharpe Ratio\n",
        "  data[f'for_sharpe_ratio'] = wml['wml'] * data[weight]\n",
        "  S = (data['for_sharpe_ratio'].mean()/data['for_sharpe_ratio'].std())*math.sqrt(12)\n",
        "  print('\\ML Sharpe Ratio : {}\\n'.format(S))\n",
        "  \n",
        "  # 머신러닝 적용된 경우 누적 수익률\n",
        "  df = pd.DataFrame(wml['wml'] * data[weight])\n",
        "  df.columns = ['cum_return']\n",
        "  df['cum_return'] = (1 + df.cum_return).cumprod() - 1 \n",
        "\n",
        "  print('\\n최근 누적 수익률\\n')\n",
        "  latly_10 = df.sort_index(ascending=False).head(5)\n",
        "  for i, r in zip(latly_10.index, latly_10['cum_return']):\n",
        "    i = str(i)\n",
        "    print('  {}년-{}월 -> {:0.2f}'.format(i[:4], i[4:6], r))\n",
        "\n",
        "  print('\\n누적 수익률 가장 높았던 순간 Top 10\\n')\n",
        "  top_10 = df.sort_values(by='cum_return', ascending=False).head(10)\n",
        "  rank = 1\n",
        "  for i, r in zip(top_10.index, top_10['cum_return']):\n",
        "    i = str(i)\n",
        "    print('  {}등 : {}년-{}월 -> {:0.2f}'.format(rank, i[:4], i[4:6], r))\n",
        "    rank += 1\n",
        "  print()\n",
        "\n",
        "  # 머신러닝 적용되지 않은 경우 누적 수익률\n",
        "  R_WML = wml.copy()\n",
        "  R_WML['wml'] = (1 + R_WML.wml).cumprod() - 1\n",
        "  R_WML.columns = ['cum_return'] \n",
        "\n",
        "  # 머신러닝 여부에 따른 누적 수익률 비교\n",
        "  plt.figure(figsize=(13, 6))\n",
        "  sns.lineplot(data=df, x=df.index, y=df['cum_return'], label='With_ML')\n",
        "  sns.lineplot(data=R_WML, x=R_WML.index, y=R_WML['cum_return'], label='Original')\n",
        "  plt.xticks([df.index[i] for i in range(0,len(df.index), 12)])\n",
        "  plt.tick_params(axis='x',\n",
        "                  direction='out',\n",
        "                  labelrotation=45,\n",
        "                  length=1,\n",
        "                  pad=10,\n",
        "                  labelsize=5,\n",
        "                  width=5)\n",
        "  \n",
        "  plt.show()"
      ],
      "metadata": {
        "id": "2hfwvf37WJAr"
      },
      "execution_count": 19,
      "outputs": []
    },
    {
      "cell_type": "code",
      "source": [
        "def plot_result(data, method, model_name):\n",
        "  print('\\nPerformance results of the model\\n')\n",
        "\n",
        "  # Confusion Matrix & etc\n",
        "  print(classification_report(data['Actual_POS_WML'], data[f'{model_name}_PRED_POS_WML']))\n",
        "\n",
        "  # Accuracy, Precision, Recall, F1 Score\n",
        "  accuracy = accuracy_score(data['Actual_POS_WML'], data[f'{model_name}_PRED_POS_WML'])\n",
        "  precision = precision_score(data['Actual_POS_WML'], data[f'{model_name}_PRED_POS_WML'])\n",
        "  recall = recall_score(data['Actual_POS_WML'], data[f'{model_name}_PRED_POS_WML'])\n",
        "  F1_score = f1_score(data['Actual_POS_WML'], data[f'{model_name}_PRED_POS_WML'])\n",
        "\n",
        "  print(f'\\naccuracy : {accuracy}')\n",
        "  print(f'\\nprecision : {precision}')\n",
        "  print(f'\\nrecall : {recall}')\n",
        "  print(f'\\nF1-Score : {F1_score}\\n')\n",
        "  \n",
        "  # Visualization Confusion Matrix\n",
        "  confusion = confusion_matrix(data['Actual_POS_WML'], data[f'{model_name}_PRED_POS_WML'])\n",
        "  sns.heatmap(confusion, annot=True, fmt='g')\n",
        "  plt.title(f'Performance results {method} of the {model_name} model')\n",
        "  \n",
        "  plt.show()"
      ],
      "metadata": {
        "id": "nZkFTOIjqMmc"
      },
      "execution_count": 20,
      "outputs": []
    },
    {
      "cell_type": "code",
      "source": [
        "def What_Pred(data, WML, model_name):\n",
        "\n",
        "  # WML 데이터 셋 슬라이싱\n",
        "  start_index = data.index[0]\n",
        "  WML = WML.loc[start_index:]\n",
        "  WML.index.name = 'TEST_DATE'\n",
        "\n",
        "  # WML의 IQR 계산\n",
        "  Q1 = WML.quantile(0.25)\n",
        "  Q3 = WML.quantile(0.75)\n",
        "  IQR = Q3 - Q1\n",
        "\n",
        "  Upper = Q3 + (1.5*IQR)\n",
        "  Lower = Q1 - (1.5*IQR)\n",
        "\n",
        "  # IQR 기준 이상치 확인\n",
        "  print('\\nIQR 기준 WML 이상치 (Maximum 초과) 개수\\n')\n",
        "\n",
        "  cond_U = (WML['wml']>Upper[0])  \n",
        "  WML_U = WML.loc[cond_U]\n",
        "  \n",
        "  print(f'Number of Outlier by IQR (Maximum) : {WML_U.shape[0]}')\n",
        "  print(f'Maximum by IQR : {Upper[0]}')\n",
        "  print(f\"Max Outlier : {WML_U['wml'].max()}\")\n",
        "  print(f\"Min Outlier : {WML_U['wml'].min()}\")\n",
        "\n",
        "  Result = pd.concat([data, WML],axis=1)\n",
        "  Result = Result[['Actual_POS_WML', f'{model_name}_PRED_POS_WML', 'wml']]\n",
        "\n",
        "  cond_1 = (Result['Actual_POS_WML'] == 1) & (Result[f'{model_name}_PRED_POS_WML'] == 1)\n",
        "  R_1 = Result.loc[cond_1]\n",
        "  print('\\nACTUAL = PRED = 1\\n')\n",
        "  sns.boxplot(data=R_1, x='wml')\n",
        "  plt.show()\n",
        "  display(R_1[['wml']].describe().T)\n",
        "\n",
        "  print()\n",
        "  print('-'*80)\n",
        "  print()\n",
        "\n",
        "  print('\\nIQR 기준 WML 이상치 (Minimum 미만) 개수\\n')\n",
        "\n",
        "  cond_L = (WML['wml']<Lower[0])  \n",
        "  WML_L = WML.loc[cond_L]\n",
        "  \n",
        "  print(f'Number of Outlier by IQR (Minimum) : {WML_L.shape[0]}')\n",
        "  print(f'Minimun by IQR : {Lower[0]}')\n",
        "  print(f\"Max Outlier : {WML_L['wml'].max()}\")\n",
        "  print(f\"Min Outlier : {WML_L['wml'].min()}\")\n",
        "\n",
        "  # 모델의 추론 결과에 대한 분석\n",
        "  Result = pd.concat([data, WML],axis=1)\n",
        "  Result = Result[['Actual_POS_WML', f'{model_name}_PRED_POS_WML', 'wml']]\n",
        "\n",
        "  # 실제값 = 추론값 = 0 \n",
        "  cond_0 = (Result['Actual_POS_WML'] == 0) & (Result[f'{model_name}_PRED_POS_WML'] == 0)\n",
        "  R_0 = Result.loc[cond_0]\n",
        "  print('\\nACTUAL = PRED = 0\\n')\n",
        "  sns.boxplot(data=R_0, x='wml')\n",
        "  plt.show()\n",
        "  sns.barplot(data=R_0.sort_values(by='wml', ascending=True), x=R_0.index, y='wml')\n",
        "  plt.tick_params(\n",
        "    axis='x',          \n",
        "    which='both',      \n",
        "    bottom=False,      \n",
        "    top=False,        \n",
        "    labelbottom=False)\n",
        "  plt.show()\n",
        "  \n",
        "  display(R_0[['wml']].describe().T)\n",
        "\n",
        "  print()\n",
        "  print('-'*80)\n",
        "  print()\n",
        "\n",
        "  # 실제값 = 0 & 추론값 = 1\n",
        "  cond_0_1 = (Result['Actual_POS_WML'] == 0) & (Result[f'{model_name}_PRED_POS_WML'] == 1)\n",
        "  R_0_1 = Result.loc[cond_0_1]\n",
        "  print('\\nACTUAL = 0 &  PRED = 1\\n')\n",
        "  sns.boxplot(data=R_0_1, x='wml')\n",
        "  plt.show()\n",
        "  sns.barplot(data=R_0_1.sort_values(by='wml', ascending=True), x=R_0_1.index, y='wml')\n",
        "  plt.tick_params(\n",
        "    axis='x',          \n",
        "    which='both',      \n",
        "    bottom=False,      \n",
        "    top=False,        \n",
        "    labelbottom=False)\n",
        "  plt.show()\n",
        "\n",
        "  display(R_0_1[['wml']].describe().T)\n",
        "\n",
        "  print()\n",
        "  print('-'*80)\n",
        "  print()\n",
        "  \n",
        "  # 실제값 = 1 & 추론값 = 0\n",
        "  cond_1_0 = (Result['Actual_POS_WML'] == 1) & (Result[f'{model_name}_PRED_POS_WML'] == 0)\n",
        "  R_1_0 = Result.loc[cond_1_0]\n",
        "  print('\\nACTUAL = 1 &  PRED = 0\\n')\n",
        "  sns.boxplot(data=R_1_0, x='wml')\n",
        "  plt.show()\n",
        "  sns.barplot(data=R_1_0.sort_values(by='wml', ascending=True), x=R_1_0.index, y='wml')\n",
        "  plt.tick_params(\n",
        "    axis='x',         \n",
        "    which='both',      \n",
        "    bottom=False,     \n",
        "    top=False,         \n",
        "    labelbottom=False)\n",
        "  plt.show()\n",
        "\n",
        "  display(R_1_0[['wml']].describe().T)"
      ],
      "metadata": {
        "id": "4kpqPI6HWC72"
      },
      "execution_count": 21,
      "outputs": []
    },
    {
      "cell_type": "markdown",
      "source": [
        "## Neural Network"
      ],
      "metadata": {
        "id": "EhenG6hTX40c"
      }
    },
    {
      "cell_type": "markdown",
      "source": [
        "## NN - layers 2"
      ],
      "metadata": {
        "id": "jSLpCcfdX_aw"
      }
    },
    {
      "cell_type": "code",
      "source": [
        "Result = Rolling_Windows(data=dynmom,\n",
        "                         window_size=240,\n",
        "                         method='Fixed',\n",
        "                         model_name='NN2',\n",
        "                         epochs=200,\n",
        "                         batch_size=48,\n",
        "                         verbose=False)"
      ],
      "metadata": {
        "colab": {
          "base_uri": "https://localhost:8080/",
          "height": 704,
          "referenced_widgets": [
            "e33e8c9e0c4b4aeeaec2d48092300764",
            "c423502f73ab427da35e25e62a198bb4",
            "c474d19127104e9fbd71b0b7bb6d4457",
            "8ec32ca104a84b3da7946c233c955be0",
            "2b9bf1d3bda9438bb34f52ff7f58ad76",
            "cbc778bc7c4d43a5a3e2b10be5ad3ca2",
            "68ca525397804528b2503fa342d91fce",
            "c09647772cf74400b18aeb32677c0527",
            "2f0856571f084a1da694551f04680f89",
            "9b89fb89c0f94f9884bc9b2d84b0de14",
            "4cabf788ad514b32aea195f9d36394f8"
          ]
        },
        "id": "U9GRYwQl8XxO",
        "outputId": "935b1727-9a77-4c05-c482-0ab67673e0a3"
      },
      "execution_count": null,
      "outputs": [
        {
          "output_type": "display_data",
          "data": {
            "text/plain": [
              "  0%|          | 0/906 [00:00<?, ?it/s]"
            ],
            "application/vnd.jupyter.widget-view+json": {
              "version_major": 2,
              "version_minor": 0,
              "model_id": "e33e8c9e0c4b4aeeaec2d48092300764"
            }
          },
          "metadata": {}
        },
        {
          "output_type": "stream",
          "name": "stdout",
          "text": [
            "Model: \"sequential\"\n",
            "_________________________________________________________________\n",
            " Layer (type)                Output Shape              Param #   \n",
            "=================================================================\n",
            " dense (Dense)               (None, 15)                240       \n",
            "                                                                 \n",
            " dense_1 (Dense)             (None, 1)                 16        \n",
            "                                                                 \n",
            "=================================================================\n",
            "Total params: 256\n",
            "Trainable params: 256\n",
            "Non-trainable params: 0\n",
            "_________________________________________________________________\n",
            "None\n",
            "\n",
            "<IPython.core.display.Image object>\n"
          ]
        },
        {
          "output_type": "display_data",
          "data": {
            "text/plain": [
              "<PIL.Image.Image image mode=RGB size=307x295 at 0x7FE2CC38F550>"
            ],
            "image/png": "[encoded data removed]"
          },
          "metadata": {}
        },
        {
          "output_type": "stream",
          "name": "stdout",
          "text": [
            "\n"
          ]
        },
        {
          "output_type": "stream",
          "name": "stderr",
          "text": [
            "WARNING:tensorflow:5 out of the last 5 calls to <function Model.make_predict_function.<locals>.predict_function at 0x7fe2a038f010> triggered tf.function retracing. Tracing is expensive and the excessive number of tracings could be due to (1) creating @tf.function repeatedly in a loop, (2) passing tensors with different shapes, (3) passing Python objects instead of tensors. For (1), please define your @tf.function outside of the loop. For (2), @tf.function has reduce_retracing=True option that can avoid unnecessary retracing. For (3), please refer to https://www.tensorflow.org/guide/function#controlling_retracing and https://www.tensorflow.org/api_docs/python/tf/function for  more details.\n",
            "WARNING:tensorflow:6 out of the last 6 calls to <function Model.make_predict_function.<locals>.predict_function at 0x7fe2cc1b08b0> triggered tf.function retracing. Tracing is expensive and the excessive number of tracings could be due to (1) creating @tf.function repeatedly in a loop, (2) passing tensors with different shapes, (3) passing Python objects instead of tensors. For (1), please define your @tf.function outside of the loop. For (2), @tf.function has reduce_retracing=True option that can avoid unnecessary retracing. For (3), please refer to https://www.tensorflow.org/guide/function#controlling_retracing and https://www.tensorflow.org/api_docs/python/tf/function for  more details.\n"
          ]
        }
      ]
    },
    {
      "cell_type": "code",
      "source": [
        "display(Result)"
      ],
      "metadata": {
        "id": "-xFv_tpMnQd6"
      },
      "execution_count": null,
      "outputs": []
    },
    {
      "cell_type": "code",
      "source": [
        "cum_return_sharpe_ratio(Result, WML, 'NN2_PROB_POS_WML')"
      ],
      "metadata": {
        "id": "vruy8iNOgVCf"
      },
      "execution_count": null,
      "outputs": []
    },
    {
      "cell_type": "code",
      "source": [
        "plot_result(Result, 'Fixed', 'NN2')"
      ],
      "metadata": {
        "id": "7rfHfmKTq8Kb"
      },
      "execution_count": null,
      "outputs": []
    },
    {
      "cell_type": "code",
      "source": [
        "What_Pred(Result, WML, 'NN2')"
      ],
      "metadata": {
        "id": "9_IHq2p1gTSD"
      },
      "execution_count": null,
      "outputs": []
    }
  ]
}